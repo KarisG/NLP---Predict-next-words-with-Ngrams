{
 "cells": [
  {
   "cell_type": "markdown",
   "id": "b4ece5c7",
   "metadata": {},
   "source": [
    "# Karis Gwet - TP 2 "
   ]
  },
  {
   "cell_type": "markdown",
   "id": "7d0c0d83",
   "metadata": {},
   "source": [
    "# Auto-complete model using n-grams\n"
   ]
  },
  {
   "cell_type": "markdown",
   "id": "a29cbb57",
   "metadata": {},
   "source": [
    "In this exercize, I will create a program that predicts the next word to appear in a given user input, based on a data base of text.\n",
    "\n",
    "Using n-grams, I will create 3-grams of the provided text, applying the necessary pre-processing to it, to predict the next word of a user input. "
   ]
  },
  {
   "cell_type": "code",
   "execution_count": 1,
   "id": "758d65dc",
   "metadata": {},
   "outputs": [],
   "source": [
    "import re\n",
    "import unicodedata\n",
    "import string\n",
    "import random\n",
    "import nltk\n",
    "import spacy\n",
    "from nltk import WordNetLemmatizer"
   ]
  },
  {
   "cell_type": "code",
   "execution_count": 2,
   "id": "4bff74bc",
   "metadata": {},
   "outputs": [],
   "source": [
    "# remove unnecessary characters, perform regex parsing, and make lowercase\n",
    "def filter(text, listed):\n",
    "            \n",
    "    # remove punctuation\n",
    "    # only alphabets and numerics\n",
    "    # replace newline with space\n",
    "    # lower case\n",
    "    for carac in text:\n",
    "        if carac in string.punctuation:\n",
    "            text = text.replace(carac, \"\")\n",
    "        if carac == \"\\n\":\n",
    "            text = text.replace(carac, \" \")\n",
    "        if carac != \" \" and not carac.isalpha() and not carac.isnumeric():\n",
    "            text = text.replace(carac, \"\")\n",
    "    \n",
    "    text = text.lower()\n",
    "    if listed: text = text.split(\" \")\n",
    "            \n",
    "    return text"
   ]
  },
  {
   "cell_type": "code",
   "execution_count": 3,
   "id": "a6a6d9dd",
   "metadata": {},
   "outputs": [],
   "source": [
    "#Tokenize and perform lemmatization\n",
    "\n",
    "def clean(text):\n",
    "    #nlp = spacy.load('en_core_web_sm')\n",
    "    #doc = nlp(text)\n",
    "    output = [] #our list of cleaned words\n",
    "    \n",
    "    # apply lemmatization\n",
    "    for word in text:\n",
    "        #output.append(word.lemma_)\n",
    "        output.append(word)\n",
    "    return output"
   ]
  },
  {
   "cell_type": "code",
   "execution_count": 4,
   "id": "e0b3634c",
   "metadata": {},
   "outputs": [],
   "source": [
    "# Make a language model using a dictionary, trigrams\n",
    "\n",
    "def n_gram_model(list_of_tokenized_text):\n",
    "    \n",
    "    # a nifty tool to help us create ngrams. in this scenairo, we are creating tri-grams\n",
    "    # you can read more about it in the documentation:\n",
    "    # https://www.nltk.org/api/nltk.util.html#nltk.util.ngrams\n",
    "    trigrams = list(nltk.ngrams(list_of_tokenized_text, 3, pad_left=True, pad_right=True, left_pad_symbol='<s>', right_pad_symbol='</s>'))\n",
    "   \n",
    "    countgrams = {}\n",
    "    # continue your magic here\n",
    "    \n",
    "    #The logic is here to take the two first words of our trigram and to put it as a key of a dictionary\n",
    "    #and the value of this key is the count occurences of the third word\n",
    "    #then in predict function, we'll take the greatest occurences value of the dictionary: it'll be the most probable word\n",
    "    for word in trigrams:\n",
    "        last_word = word[2]\n",
    "        first2word = word[0]+\" \"+word[1]\n",
    "        if first2word not in countgrams:\n",
    "            countgrams[first2word] = {}\n",
    "        else:\n",
    "            if last_word not in countgrams[first2word]:\n",
    "                countgrams[first2word][last_word] = 1\n",
    "            else:\n",
    "                countgrams[first2word][last_word] += 1\n",
    "    return countgrams"
   ]
  },
  {
   "cell_type": "code",
   "execution_count": 10,
   "id": "d561c371",
   "metadata": {},
   "outputs": [],
   "source": [
    "import operator\n",
    "# Generate predictions from the created 3-grams\n",
    "def predict(model, user_input):\n",
    "    #Tokenize user_input\n",
    "    user_input = filter(user_input, False)\n",
    "    result = \"\"\n",
    "    if user_input in list(model.keys()):\n",
    "        result = max(model[user_input].items(), key=operator.itemgetter(1))[0]\n",
    "    else:\n",
    "        result = \"//Not in the training dataset//\"\n",
    "    print(\"The next word will probably be :\"+\" \"+result)"
   ]
  },
  {
   "cell_type": "code",
   "execution_count": 12,
   "id": "88cba1a0",
   "metadata": {},
   "outputs": [
    {
     "name": "stdout",
     "output_type": "stream",
     "text": [
      "Filtering...\n",
      "Cleaning...\n",
      "Making model...\n",
      "Enter a phrase: \n",
      "what are\n",
      "The next word will probably be : you\n"
     ]
    }
   ],
   "source": [
    "def main():\n",
    "    file = open('alice.txt', 'r', encoding=\"utf8\")\n",
    "    \n",
    "    text = \"\"\n",
    "    while True:\n",
    "        line = file.readline()\n",
    "        text += line\n",
    "        if not line:\n",
    "            break\n",
    "\n",
    "    # pre-process text\n",
    "    print(\"Filtering...\")\n",
    "    words = filter(text, True)\n",
    "    print(\"Cleaning...\")\n",
    "    words = clean(words)\n",
    "\n",
    "    # make language model\n",
    "    print(\"Making model...\")\n",
    "    model = n_gram_model(words)\n",
    "\n",
    "    print(\"Enter a phrase: \") # Enter 2 words\n",
    "    user_input = input()\n",
    "    predict(model, user_input)\n",
    "\n",
    "main()"
   ]
  }
 ],
 "metadata": {
  "kernelspec": {
   "display_name": "Python 3",
   "language": "python",
   "name": "python3"
  },
  "language_info": {
   "codemirror_mode": {
    "name": "ipython",
    "version": 3
   },
   "file_extension": ".py",
   "mimetype": "text/x-python",
   "name": "python",
   "nbconvert_exporter": "python",
   "pygments_lexer": "ipython3",
   "version": "3.6.13"
  }
 },
 "nbformat": 4,
 "nbformat_minor": 5
}
